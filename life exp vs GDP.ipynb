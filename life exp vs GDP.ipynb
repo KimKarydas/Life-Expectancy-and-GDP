{
 "cells": [
  {
   "cell_type": "code",
   "execution_count": 2,
   "metadata": {},
   "outputs": [],
   "source": [
    "#Libraries\n",
    "import pandas as pd\n",
    "import numpy as np\n",
    "import matplotlib.pyplot as plt\n",
    "import seaborn as sns"
   ]
  },
  {
   "cell_type": "code",
   "execution_count": 4,
   "metadata": {},
   "outputs": [
    {
     "name": "stdout",
     "output_type": "stream",
     "text": [
      "   Unnamed: 0      country  year  population continent  life_exp       gdp_cap\n",
      "0          11  Afghanistan  2007    31889923      Asia    43.828    974.580338\n",
      "1          23      Albania  2007     3600523    Europe    76.423   5937.029526\n",
      "2          35      Algeria  2007    33333216    Africa    72.301   6223.367465\n",
      "3          47       Angola  2007    12420476    Africa    42.731   4797.231267\n",
      "4          59    Argentina  2007    40301927  Americas    75.320  12779.379640\n"
     ]
    }
   ],
   "source": [
    "#Importing the data\n",
    "df = pd.read_csv('life exp and GDP.csv')\n",
    "print(df.head())"
   ]
  },
  {
   "cell_type": "code",
   "execution_count": 7,
   "metadata": {},
   "outputs": [
    {
     "name": "stdout",
     "output_type": "stream",
     "text": [
      "(142, 7)\n",
      "        Unnamed: 0    year    population    life_exp       gdp_cap\n",
      "count   142.000000   142.0  1.420000e+02  142.000000    142.000000\n",
      "mean    857.000000  2007.0  4.402122e+07   67.007423  11680.071820\n",
      "std     493.631441     0.0  1.476214e+08   12.073021  12859.937337\n",
      "min      11.000000  2007.0  1.995790e+05   39.613000    277.551859\n",
      "25%     434.000000  2007.0  4.508034e+06   57.160250   1624.842248\n",
      "50%     857.000000  2007.0  1.051753e+07   71.935500   6124.371108\n",
      "75%    1280.000000  2007.0  3.121004e+07   76.413250  18008.835640\n",
      "max    1703.000000  2007.0  1.318683e+09   82.603000  49357.190170\n"
     ]
    }
   ],
   "source": [
    "#Have a first look at the data\n",
    "print(df.shape)\n",
    "print(df.describe())"
   ]
  },
  {
   "cell_type": "code",
   "execution_count": null,
   "metadata": {},
   "outputs": [],
   "source": [
    "#Look for missing values"
   ]
  }
 ],
 "metadata": {
  "kernelspec": {
   "display_name": "Python 3.10.4 64-bit",
   "language": "python",
   "name": "python3"
  },
  "language_info": {
   "codemirror_mode": {
    "name": "ipython",
    "version": 3
   },
   "file_extension": ".py",
   "mimetype": "text/x-python",
   "name": "python",
   "nbconvert_exporter": "python",
   "pygments_lexer": "ipython3",
   "version": "3.10.4"
  },
  "orig_nbformat": 4,
  "vscode": {
   "interpreter": {
    "hash": "3ad933181bd8a04b432d3370b9dc3b0662ad032c4dfaa4e4f1596c548f763858"
   }
  }
 },
 "nbformat": 4,
 "nbformat_minor": 2
}
